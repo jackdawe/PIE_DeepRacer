{
 "cells": [
  {
   "cell_type": "markdown",
   "metadata": {},
   "source": [
    "# Bypass the RL, win money 🤑"
   ]
  },
  {
   "cell_type": "markdown",
   "metadata": {},
   "source": [
    "This notebook is a pipeline for designing an efficient model for AWS Deepracer"
   ]
  },
  {
   "cell_type": "code",
   "execution_count": 1,
   "metadata": {},
   "outputs": [],
   "source": [
    "import numpy as np\n",
    "import pandas as pd\n",
    "from shapely.geometry import Point, Polygon\n",
    "from shapely.geometry.polygon import LinearRing, LineString"
   ]
  },
  {
   "cell_type": "markdown",
   "metadata": {},
   "source": [
    "# Part 1 - Compute the optimal racing line"
   ]
  },
  {
   "cell_type": "code",
   "execution_count": 1,
   "metadata": {},
   "outputs": [],
   "source": [
    "TRACK_NAME = 'Aragon'"
   ]
  },
  {
   "cell_type": "code",
   "execution_count": null,
   "metadata": {},
   "outputs": [],
   "source": [
    "action_space = pd.DataFrame(columns = ['id', 'speed', 'steering'])\n",
    "action_sequence = []\n",
    "optimal_racing_line = pd.DataFrame(columns = ['x', 'y', 'speed', 'distance_from_last_point'])"
   ]
  },
  {
   "cell_type": "markdown",
   "metadata": {},
   "source": [
    "### Load the appropriate Track"
   ]
  },
  {
   "cell_type": "code",
   "execution_count": 6,
   "metadata": {},
   "outputs": [],
   "source": [
    "# Load the waypoints\n",
    "waypoints = np.load(\"../tracks/\" + TRACK_NAME + \".npy\")\n",
    "\n",
    "# Build the geometrical objects\n",
    "center_line = waypoints[:,0:2]\n",
    "inner_border = waypoints[:,2:4]\n",
    "outer_border = waypoints[:,4:6]\n",
    "l_center_line = LineString(center_line)\n",
    "l_inner_border = LineString(inner_border)\n",
    "l_outer_border = LineString(outer_border)\n",
    "road_poly = Polygon(np.vstack((l_outer_border, np.flipud(l_inner_border))))"
   ]
  },
  {
   "cell_type": "code",
   "execution_count": null,
   "metadata": {},
   "outputs": [],
   "source": [
    "def plot_coords(ax, ob):                                                        \n",
    "    x, y = ob.xy                                                                \n",
    "    ax.plot(x, y, '.', color='#999999', zorder=1)                               \n",
    "                                                                                \n",
    "def plot_bounds(ax, ob):                                                        \n",
    "    x, y = zip(*list((p.x, p.y) for p in ob.boundary))                          \n",
    "    ax.plot(x, y, '.', color='#000000', zorder=1)                               \n",
    "                                                                                \n",
    "def plot_line(ax, ob):                                                          \n",
    "    x, y = ob.xy                                                                \n",
    "    ax.plot(x, y, color='cyan', alpha=0.7, linewidth=3, solid_capstyle='round', zorder=2)\n",
    "                                                                                \n",
    "def print_border(ax, waypoints, inner_border_waypoints, outer_border_waypoints):\n",
    "    line = LineString(waypoints)                                                \n",
    "    plot_coords(ax, line)                                                       \n",
    "    plot_line(ax, line)                                                         \n",
    "                                                                                \n",
    "    line = LineString(inner_border_waypoints)                                   \n",
    "    plot_coords(ax, line)                                                       \n",
    "    plot_line(ax, line)                                                         \n",
    "                                                                                \n",
    "    line = LineString(outer_border_waypoints)                                   \n",
    "    plot_coords(ax, line)                                                       \n",
    "    plot_line(ax, line)     \n",
    "\n",
    "fig = plt.figure(1, figsize=(16, 10))\n",
    "ax = fig.add_subplot(111, facecolor='black')\n",
    "plt.axis('equal')\n",
    "print_border(ax, center_line, inner_border, outer_border)"
   ]
  },
  {
   "cell_type": "markdown",
   "metadata": {},
   "source": [
    "# Part 2 - Compute the action space"
   ]
  },
  {
   "cell_type": "code",
   "execution_count": null,
   "metadata": {},
   "outputs": [],
   "source": []
  },
  {
   "cell_type": "markdown",
   "metadata": {},
   "source": [
    "# Part 3 - Compute the optimal racing line using only actions from the action space"
   ]
  },
  {
   "cell_type": "code",
   "execution_count": 7,
   "metadata": {},
   "outputs": [],
   "source": [
    "# Mock action space, to work with it\n",
    "action_space = pd.DataFrame({\n",
    "    'id': [i for i in range(21)], \n",
    "    'speed': [i/5 for i in range(21)], \n",
    "    'steering': [3*i - 30 for i in range(21)]\n",
    "})"
   ]
  },
  {
   "cell_type": "code",
   "execution_count": null,
   "metadata": {},
   "outputs": [],
   "source": [
    "# Mock racing line, to work with it\n",
    "optimal_racing_line = pd.DataFrame({\n",
    "    'id': [i for i in range(21)], \n",
    "    'speed': [i/5 for i in range(21)], \n",
    "    'steering': [3*i - 30 for i in range(21)]\n",
    "})"
   ]
  },
  {
   "cell_type": "markdown",
   "metadata": {},
   "source": [
    "# Part 4 - Build the reward function"
   ]
  },
  {
   "cell_type": "code",
   "execution_count": null,
   "metadata": {},
   "outputs": [],
   "source": []
  }
 ],
 "metadata": {
  "kernelspec": {
   "display_name": "global",
   "language": "python",
   "name": "global"
  },
  "language_info": {
   "codemirror_mode": {
    "name": "ipython",
    "version": 3
   },
   "file_extension": ".py",
   "mimetype": "text/x-python",
   "name": "python",
   "nbconvert_exporter": "python",
   "pygments_lexer": "ipython3",
   "version": "3.6.9"
  }
 },
 "nbformat": 4,
 "nbformat_minor": 4
}
